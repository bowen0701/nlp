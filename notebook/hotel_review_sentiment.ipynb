{
  "cells": [
    {
      "cell_type": "markdown",
      "metadata": {
        "id": "9M22UUB-Nu4a"
      },
      "source": [
        "# Sentiment Analysis with NLP for Hotel Accommodation Reviews\n",
        "\n",
        "- Bowen Lee\n",
        "- 2017/11/09"
      ]
    },
    {
      "cell_type": "markdown",
      "metadata": {
        "id": "36CnVFfANu4c"
      },
      "source": [
        "## Introduction\n",
        "\n",
        "Recently I got hotel accommodation reviews data to practice **Sentiment Analysis with Natural Language Processing (NLP)**, which I previously just knew the basics and would like to gain hands-on experience for this **Natural Language Understanding** task. This notebook is to summarize my results."
      ]
    },
    {
      "cell_type": "markdown",
      "metadata": {
        "id": "nPvkkgoKNu4c"
      },
      "source": [
        "## Sentiment Analysis with NLP\n",
        "\n",
        "We will perform Sentiment Analysis with NLP by applying the **Occam's Razor Principle.**\n",
        "\n",
        "- Collect datasets\n",
        "- Exploratory data analysis (EDA) with datasets\n",
        "  * Check missing / abnormal data\n",
        "  * Group-by aggregate score distributions\n",
        "- Pre-process datasets\n",
        "  * Remove missing / abnormal data\n",
        "  * Join score & review datasets\n",
        "  * Concat review_title and review_comment to review_title_comments\n",
        "  * Lower review_title_comments\n",
        "  * Tokenize and remove stopwords and punctuations\n",
        "  * Get bag of words\n",
        "- Sentiment analysis\n",
        "  * Randomly permutate data\n",
        "  * Label review\n",
        "  * Splite training and test sets\n",
        "  * Machine learning for classification by Naive Bayes Classifier\n",
        "  * Model evaluation by precision and recall\n",
        "- Measure real-world performance\n",
        "  * Predict label based on bag of words\n",
        "  * Compare two labels's score distributions"
      ]
    },
    {
      "cell_type": "markdown",
      "metadata": {
        "id": "CU_P3pOENu4c"
      },
      "source": [
        "### Python scripts\n",
        "\n",
        "First import Python libraries."
      ]
    },
    {
      "cell_type": "code",
      "execution_count": 1,
      "metadata": {
        "collapsed": true,
        "id": "C9g7qt4BNu4d"
      },
      "outputs": [],
      "source": [
        "from __future__ import division\n",
        "from __future__ import print_function"
      ]
    },
    {
      "cell_type": "code",
      "execution_count": 2,
      "metadata": {
        "collapsed": true,
        "id": "rqHXSjufNu4d"
      },
      "outputs": [],
      "source": [
        "import numpy as np\n",
        "import scipy as sp\n",
        "import pandas as pd\n",
        "\n",
        "import nltk\n",
        "# When performing experiment, remove comment out for nltk.download().\n",
        "# nltk.download()\n",
        "\n",
        "import time"
      ]
    },
    {
      "cell_type": "code",
      "execution_count": 3,
      "metadata": {
        "collapsed": true,
        "id": "uNdaeUxwNu4d"
      },
      "outputs": [],
      "source": [
        "import warnings\n",
        "warnings.filterwarnings(\"ignore\")"
      ]
    },
    {
      "cell_type": "markdown",
      "metadata": {
        "id": "3J4WrULbNu4e"
      },
      "source": [
        "The following are the scripts for Sentiment Analysis with NLP."
      ]
    },
    {
      "cell_type": "code",
      "execution_count": 5,
      "metadata": {
        "collapsed": true,
        "id": "m5cpRG2vNu4e"
      },
      "outputs": [],
      "source": [
        "def read_score_review(score_file, review_file):\n",
        "    \"\"\"Read score and review data.\"\"\"\n",
        "    score_df = pd.read_csv(score_file)\n",
        "    review_df = pd.read_csv(review_file)\n",
        "    return score_df, review_df"
      ]
    },
    {
      "cell_type": "code",
      "execution_count": 6,
      "metadata": {
        "collapsed": true,
        "id": "RSvoQv2xNu4e"
      },
      "outputs": [],
      "source": [
        "def groupby_agg_data(df, gkey='gkey', rid='rid'):\n",
        "    \"\"\"Group-by aggregate data.\"\"\"\n",
        "    agg_df = (df.groupby(gkey)[rid]\n",
        "                .count()\n",
        "                .reset_index())\n",
        "    nan_count = df[gkey].isnull().sum()\n",
        "    nan_df = pd.DataFrame({gkey: [np.nan], rid: [nan_count]})\n",
        "    agg_df = agg_df.append(nan_df)[[gkey, rid]]\n",
        "    agg_df['percent'] = agg_df[rid] / agg_df[rid].sum()\n",
        "    return agg_df"
      ]
    },
    {
      "cell_type": "code",
      "execution_count": 7,
      "metadata": {
        "collapsed": true,
        "id": "j90Zk6QPNu4f"
      },
      "outputs": [],
      "source": [
        "def count_missing_data(df, cols='cols'):\n",
        "    \"\"\"Count missing records w.r.t. columns.\"\"\"\n",
        "    print('Missing rows:')\n",
        "    for col in cols:\n",
        "        nan_rows = df[col].isnull().sum()\n",
        "        print('For {0}: {1}'.format(col, nan_rows))"
      ]
    },
    {
      "cell_type": "code",
      "execution_count": 8,
      "metadata": {
        "collapsed": true,
        "id": "jSTecDTpNu4f"
      },
      "outputs": [],
      "source": [
        "def slice_abnormal_id(df, rid='hotel_review_id'):\n",
        "    \"\"\"View abnormal records with column\"\"\"\n",
        "    abnorm_bool_arr = (df[rid] == 0)\n",
        "    abnorm_count = abnorm_bool_arr.sum()\n",
        "    print('abnorm_count: {}'.format(abnorm_count))\n",
        "    abnorm_df = df[abnorm_bool_arr]\n",
        "    return abnorm_df"
      ]
    },
    {
      "cell_type": "code",
      "execution_count": 9,
      "metadata": {
        "collapsed": true,
        "id": "kke45pozNu4f"
      },
      "outputs": [],
      "source": [
        "def remove_missing_abnormal_data(score_raw_df, review_raw_df, \n",
        "                                 rid='hotel_review_id', \n",
        "                                 score_col='rating_overall'):\n",
        "    \"\"\"Remove missing / abnormal data.\"\"\"\n",
        "    filter_score_bool_arr = (score_raw_df[rid].notnull() & \n",
        "                             score_raw_df[score_col].notnull())\n",
        "    score_df = score_raw_df[filter_score_bool_arr]\n",
        "    \n",
        "    filter_review_bool_arr = review_raw_df[rid].notnull()\n",
        "    review_df = review_raw_df[filter_review_bool_arr]\n",
        "    \n",
        "    return score_df, review_df"
      ]
    },
    {
      "cell_type": "code",
      "execution_count": 10,
      "metadata": {
        "collapsed": true,
        "id": "Cwge2e1tNu4f"
      },
      "outputs": [],
      "source": [
        "def join_score_review(score_df, review_df, on='hotel_review_id', how='left'):\n",
        "    \"\"\"Join score and review datasets.\"\"\"\n",
        "    score_review_df = pd.merge(score_df, review_df, on=on, how=how)\n",
        "    score_review_count = score_review_df.shape[0]\n",
        "    print('score_review_count: {}'.format(score_review_count))\n",
        "    return score_review_df"
      ]
    },
    {
      "cell_type": "code",
      "execution_count": 11,
      "metadata": {
        "collapsed": true,
        "id": "GxLuQLj6Nu4f"
      },
      "outputs": [],
      "source": [
        "def concat_review_title_comments(score_review_df, \n",
        "                                 concat_cols=['review_title', 'review_comments'],\n",
        "                                 concat_2col='review_title_comments'):\n",
        "    \"\"\"Concat review title and review comments.\"\"\"\n",
        "    concat_text_col = ''\n",
        "    for concat_col in concat_cols:\n",
        "        concat_text_col += score_review_df[concat_col]\n",
        "        if concat_col != concat_cols[len(concat_cols) - 1]:\n",
        "            concat_text_col += '. '\n",
        "    score_review_df[concat_2col] = concat_text_col\n",
        "    return score_review_df"
      ]
    },
    {
      "cell_type": "code",
      "execution_count": 12,
      "metadata": {
        "collapsed": true,
        "id": "pwN9aISxNu4g"
      },
      "outputs": [],
      "source": [
        "def lower_review_title_comments(score_review_df, \n",
        "                                lower_col='review_title_comments'):\n",
        "    \"\"\"Lower sentences.\"\"\"\n",
        "    score_review_df[lower_col] = score_review_df[lower_col].str.lower()\n",
        "    return score_review_df"
      ]
    },
    {
      "cell_type": "code",
      "execution_count": 13,
      "metadata": {
        "collapsed": true,
        "id": "X3saInN4Nu4g"
      },
      "outputs": [],
      "source": [
        "def _tokenize_sen(sen):\n",
        "    \"\"\"Tokenize one sentence.\"\"\"\n",
        "    from nltk.tokenize import word_tokenize\n",
        "    sen_token = word_tokenize(str(sen))\n",
        "    return sen_token"
      ]
    },
    {
      "cell_type": "code",
      "execution_count": 14,
      "metadata": {
        "collapsed": true,
        "id": "mefUKnxENu4g"
      },
      "outputs": [],
      "source": [
        "def _remove_nonstop_words_puncs(sen):\n",
        "    \"\"\"Remove nonstop words and meaningless punctuations in one sentence.\"\"\"\n",
        "    from nltk.corpus import stopwords\n",
        "    sen_clean = [\n",
        "        word for word in sen \n",
        "        if word not in stopwords.words('english') and \n",
        "           word not in [',', '.', '(', ')', '&']]\n",
        "    return sen_clean"
      ]
    },
    {
      "cell_type": "code",
      "execution_count": 15,
      "metadata": {
        "collapsed": true,
        "id": "fyqbrMqBNu4g"
      },
      "outputs": [],
      "source": [
        "def tokenize_clean_sentence(sen):\n",
        "    \"\"\"Tokenize and clean one sentence.\"\"\"\n",
        "    sen_token = _tokenize_sen(sen)\n",
        "    sen_token_clean = _remove_nonstop_words_puncs(sen_token)\n",
        "    return sen_token_clean"
      ]
    },
    {
      "cell_type": "code",
      "execution_count": 16,
      "metadata": {
        "collapsed": true,
        "id": "wrwl9xJCNu4g"
      },
      "outputs": [],
      "source": [
        "# def preprocess_sentence(df, sen_cols=['review_title', 'review_comments']):  \n",
        "#     \"\"\"Preprocess sentences (deprecated due to slow performance).\"\"\"\n",
        "#     for sen_col in sen_cols:\n",
        "#         print('Start tokenizing \"{}\"'.format(sen_col))\n",
        "#         sen_token_col = '{}_token'.format(sen_col)\n",
        "#         df[sen_token_col] = df[sen_col].apply(tokenize_clean_sentence)\n",
        "#         print('Finish tokenizing \"{}\"'.format(sen_col))\n",
        "#     return df\n",
        "\n",
        "def preprocess_sentence_par(df, sen_col='review_title_comments',\n",
        "                            sen_token_col='review_title_comments_token', num_proc=32):\n",
        "    \"\"\"Preporecess sentences in parallel.\n",
        "    \n",
        "    Note: We apply multiprocessing with 32 cores; adjust `num_proc` by your computing environment.\n",
        "    \"\"\"\n",
        "    import multiprocessing as mp\n",
        "    pool = mp.Pool(num_proc)\n",
        "    df[sen_token_col] = pool.map_async(tokenize_clean_sentence , df[sen_col]).get()\n",
        "    return df"
      ]
    },
    {
      "cell_type": "code",
      "execution_count": 17,
      "metadata": {
        "collapsed": true,
        "id": "t3zT98sYNu4g"
      },
      "outputs": [],
      "source": [
        "def get_bag_of_words(w_ls):\n",
        "    \"\"\"Get bag of words in word list.\"\"\"\n",
        "    w_bow = dict([(w, True) for w in w_ls])\n",
        "    return w_bow"
      ]
    },
    {
      "cell_type": "code",
      "execution_count": 18,
      "metadata": {
        "collapsed": true,
        "id": "VVUycF2GNu4h"
      },
      "outputs": [],
      "source": [
        "def get_bag_of_words_par(df, sen_token_col='review_title_comments_token',\n",
        "                         bow_col='review_title_comments_bow', num_proc=32):\n",
        "    \"\"\"Get bag of words in parallel for sentences.\"\"\"\n",
        "    import multiprocessing as mp\n",
        "    pool = mp.Pool(num_proc)\n",
        "    df[bow_col] = pool.map_async(get_bag_of_words , df[sen_token_col]).get()\n",
        "    return df"
      ]
    },
    {
      "cell_type": "code",
      "execution_count": 19,
      "metadata": {
        "collapsed": true,
        "id": "n9vjTQEUNu4h"
      },
      "outputs": [],
      "source": [
        "def label_review(df, scores_ls=None, label='negative',\n",
        "                 score_col='rating_overall',\n",
        "                 review_col='review_title_comments_bow'):\n",
        "    \"\"\"Label review by positive or negative.\"\"\"\n",
        "    df_label = df[df[score_col].isin(scores_ls)]\n",
        "    label_review_ls = (df_label[review_col]\n",
        "                       .apply(lambda bow: (bow, label))\n",
        "                       .tolist())\n",
        "    return label_review_ls"
      ]
    },
    {
      "cell_type": "code",
      "execution_count": 20,
      "metadata": {
        "collapsed": true,
        "id": "wS88yOUyNu4h"
      },
      "outputs": [],
      "source": [
        "def permutate(data_ls):\n",
        "    \"\"\"Randomly permutate data.\"\"\"\n",
        "    np.random.shuffle(data_ls)"
      ]
    },
    {
      "cell_type": "code",
      "execution_count": 21,
      "metadata": {
        "collapsed": true,
        "id": "0zvblehTNu4h"
      },
      "outputs": [],
      "source": [
        "def create_train_test_sets(pos_review_ls, neg_review_ls, train_percent=0.75):\n",
        "    \"\"\"Create the training and test sets.\"\"\"\n",
        "    neg_num = np.int(np.ceil(len(neg_review_ls) * train_percent))\n",
        "    pos_num = np.int(np.ceil(len(pos_review_ls) * train_percent))\n",
        "    \n",
        "    train_set = neg_review_ls[:neg_num] + pos_review_ls[:pos_num]\n",
        "    permutate(train_set)\n",
        "    \n",
        "    test_set =  neg_review_ls[neg_num:] + pos_review_ls[pos_num:]\n",
        "    permutate(test_set)\n",
        "    \n",
        "    return train_set, test_set"
      ]
    },
    {
      "cell_type": "code",
      "execution_count": 22,
      "metadata": {
        "collapsed": true,
        "id": "gI5J_cq2Nu4h"
      },
      "outputs": [],
      "source": [
        "def train_naive_bayes(train_set):\n",
        "    from nltk.classify import NaiveBayesClassifier\n",
        "    nb_clf = NaiveBayesClassifier.train(train_set)\n",
        "    return nb_clf"
      ]
    },
    {
      "cell_type": "code",
      "execution_count": 23,
      "metadata": {
        "collapsed": true,
        "id": "8bXgbEmCNu4h"
      },
      "outputs": [],
      "source": [
        "def eval_naive_bayes(test_set, nb_clf):\n",
        "    import collections\n",
        "    from nltk.metrics.scores import precision\n",
        "    from nltk.metrics.scores import recall\n",
        "\n",
        "    ref_sets = {'positive': set(), \n",
        "                'negative': set()}\n",
        "    pred_sets = {'positive': set(), \n",
        "                 'negative': set()}\n",
        "    \n",
        "    for i, (bow, label) in enumerate(test_set):\n",
        "        ref_sets[label].add(i)\n",
        "        pred_label = nb_clf.classify(bow)\n",
        "        pred_sets[pred_label].add(i)\n",
        "        \n",
        "    print('Positive precision:', precision(ref_sets['positive'], pred_sets['positive']))\n",
        "    print('Positive recall:', recall(ref_sets['positive'], pred_sets['positive']))\n",
        "    print('Negative precision:', precision(ref_sets['negative'], pred_sets['negative']))\n",
        "    print('Negative recall:', recall(ref_sets['negative'], pred_sets['negative']))"
      ]
    },
    {
      "cell_type": "code",
      "execution_count": 24,
      "metadata": {
        "collapsed": true,
        "id": "0rlaTZFSNu4i"
      },
      "outputs": [],
      "source": [
        "def pred_labels(df, clf, \n",
        "                bow_col='review_title_comments_bow',\n",
        "                pred_col='pred_label',\n",
        "                sel_cols=['rating_overall', \n",
        "                          'review_title_comments_bow', \n",
        "                          'pred_label']):\n",
        "    \"\"\"Predict labels for bag of words.\"\"\"\n",
        "    df[pred_col] = df[bow_col].apply(clf.classify)\n",
        "    df_pred = df[sel_cols]\n",
        "    return df_pred"
      ]
    },
    {
      "cell_type": "code",
      "execution_count": 25,
      "metadata": {
        "collapsed": true,
        "id": "lZBXsOi2Nu4i"
      },
      "outputs": [],
      "source": [
        "def get_boxplot_data(pred_label_df, \n",
        "                     pred_col='pred_label', score_col='rating_overall'):\n",
        "    pos_data = pred_label_df[pred_label_df[pred_col] == 'positive'][score_col].values\n",
        "    neg_data = pred_label_df[pred_label_df[pred_col] == 'negative'][score_col].values\n",
        "    box_data = [pos_data, neg_data]\n",
        "    return box_data"
      ]
    },
    {
      "cell_type": "code",
      "execution_count": 26,
      "metadata": {
        "collapsed": true,
        "id": "CVL01wLLNu4i"
      },
      "outputs": [],
      "source": [
        "def plot_box(d_ls, title='Box Plot', xlab='xlab', ylab='ylab', \n",
        "             xticks=None, xlim=None, ylim=None, figsize=(15, 10)):\n",
        "    import matplotlib.pyplot as plt\n",
        "    import seaborn as sns\n",
        "    import matplotlib\n",
        "    matplotlib.style.use('ggplot')\n",
        "    %matplotlib inline\n",
        "    plt.figure()\n",
        "    fig, ax = plt.subplots(figsize=figsize)\n",
        "    plt.boxplot(d_ls)\n",
        "    plt.title(title)\n",
        "    plt.xlabel(xlab)\n",
        "    plt.ylabel(ylab)\n",
        "    if xticks:\n",
        "        ax.set_xticklabels(xticks)\n",
        "    if xlim:\n",
        "        plt.xlim(xlim)\n",
        "    if ylim:\n",
        "        plt.ylim(ylim)\n",
        "    # plt.axis('auto')    \n",
        "    plt.show()"
      ]
    },
    {
      "cell_type": "markdown",
      "metadata": {
        "id": "gtsZJoaBNu4i"
      },
      "source": [
        "## Collect Data\n",
        "\n",
        "We first read score and review raw datasets.\n",
        "\n",
        "- Score dataset: two columns\n",
        "  * `hotel_review_id`: hotel review sequence ID\n",
        "  * `rating_overall`: overal accommodation rating\n",
        "- Review dataset: three columns\n",
        "  * `hotel_review_id`: hotel review sequence ID\n",
        "  * `review_title`: review title\n",
        "  * `review_comments`: detailed review comments"
      ]
    },
    {
      "cell_type": "code",
      "source": [
        "# !sudo rm -r drive/MyDrive/nlp/"
      ],
      "metadata": {
        "id": "yeF91epJW-9j"
      },
      "execution_count": 47,
      "outputs": []
    },
    {
      "cell_type": "code",
      "source": [
        "# score_file = 'reviews_score.csv'\n",
        "# review_file = 'reviews.csv'\n",
        "score_file = '../datasets/hotel_review/reviews_score.csv'\n",
        "review_file = '../datasets/hotel_review/reviews.csv'"
      ],
      "metadata": {
        "id": "ntC34no0Oice"
      },
      "execution_count": 50,
      "outputs": []
    },
    {
      "cell_type": "code",
      "execution_count": 51,
      "metadata": {
        "colab": {
          "base_uri": "https://localhost:8080/"
        },
        "id": "zAy3ifWeNu4i",
        "outputId": "f00cb619-2774-487f-cf51-0600a0444f46"
      },
      "outputs": [
        {
          "output_type": "stream",
          "name": "stdout",
          "text": [
            "274339\n",
            "274339\n"
          ]
        }
      ],
      "source": [
        "score_raw_df, review_raw_df = read_score_review(score_file, review_file)\n",
        "\n",
        "print(len(score_raw_df))\n",
        "print(len(review_raw_df))"
      ]
    },
    {
      "cell_type": "code",
      "execution_count": null,
      "metadata": {
        "id": "U-zke4CMNu4j",
        "outputId": "2a99a3a0-e1b8-49ba-ace5-504da9bc3c71"
      },
      "outputs": [
        {
          "data": {
            "text/html": [
              "<div>\n",
              "<table border=\"1\" class=\"dataframe\">\n",
              "  <thead>\n",
              "    <tr style=\"text-align: right;\">\n",
              "      <th></th>\n",
              "      <th>hotel_review_id</th>\n",
              "      <th>rating_overall</th>\n",
              "    </tr>\n",
              "  </thead>\n",
              "  <tbody>\n",
              "    <tr>\n",
              "      <th>0</th>\n",
              "      <td>103237986</td>\n",
              "      <td>6</td>\n",
              "    </tr>\n",
              "    <tr>\n",
              "      <th>1</th>\n",
              "      <td>103237985</td>\n",
              "      <td>7</td>\n",
              "    </tr>\n",
              "    <tr>\n",
              "      <th>2</th>\n",
              "      <td>103237979</td>\n",
              "      <td>7</td>\n",
              "    </tr>\n",
              "    <tr>\n",
              "      <th>3</th>\n",
              "      <td>103237975</td>\n",
              "      <td>6</td>\n",
              "    </tr>\n",
              "    <tr>\n",
              "      <th>4</th>\n",
              "      <td>103237974</td>\n",
              "      <td>6</td>\n",
              "    </tr>\n",
              "  </tbody>\n",
              "</table>\n",
              "</div>"
            ],
            "text/plain": [
              "   hotel_review_id  rating_overall\n",
              "0        103237986               6\n",
              "1        103237985               7\n",
              "2        103237979               7\n",
              "3        103237975               6\n",
              "4        103237974               6"
            ]
          },
          "execution_count": 17,
          "metadata": {},
          "output_type": "execute_result"
        }
      ],
      "source": [
        "score_raw_df.head(5)"
      ]
    },
    {
      "cell_type": "code",
      "execution_count": null,
      "metadata": {
        "id": "jDvbgTfjNu4j",
        "outputId": "daae532a-776c-43bf-bc52-b3d0d1e0c671"
      },
      "outputs": [
        {
          "data": {
            "text/html": [
              "<div>\n",
              "<table border=\"1\" class=\"dataframe\">\n",
              "  <thead>\n",
              "    <tr style=\"text-align: right;\">\n",
              "      <th></th>\n",
              "      <th>hotel_review_id</th>\n",
              "      <th>review_title</th>\n",
              "      <th>review_comments</th>\n",
              "    </tr>\n",
              "  </thead>\n",
              "  <tbody>\n",
              "    <tr>\n",
              "      <th>0</th>\n",
              "      <td>103237986</td>\n",
              "      <td>Friendly staff and comfortable stay</td>\n",
              "      <td>Continental breakfast is 7/10</td>\n",
              "    </tr>\n",
              "    <tr>\n",
              "      <th>1</th>\n",
              "      <td>103237985</td>\n",
              "      <td>Budget hotel</td>\n",
              "      <td>Hotel is OK but the breakfast taste is so so.</td>\n",
              "    </tr>\n",
              "    <tr>\n",
              "      <th>2</th>\n",
              "      <td>103237979</td>\n",
              "      <td>Don't set high expectations</td>\n",
              "      <td>The hotel has a beautiful lobby, delicately de...</td>\n",
              "    </tr>\n",
              "    <tr>\n",
              "      <th>3</th>\n",
              "      <td>103237975</td>\n",
              "      <td>Good location</td>\n",
              "      <td>Good location and good view. But check-out tim...</td>\n",
              "    </tr>\n",
              "    <tr>\n",
              "      <th>4</th>\n",
              "      <td>103237974</td>\n",
              "      <td>Need Renovations</td>\n",
              "      <td>The rooms and facilities are old and needs tot...</td>\n",
              "    </tr>\n",
              "  </tbody>\n",
              "</table>\n",
              "</div>"
            ],
            "text/plain": [
              "   hotel_review_id                         review_title  \\\n",
              "0        103237986  Friendly staff and comfortable stay   \n",
              "1        103237985                         Budget hotel   \n",
              "2        103237979          Don't set high expectations   \n",
              "3        103237975                        Good location   \n",
              "4        103237974                     Need Renovations   \n",
              "\n",
              "                                     review_comments  \n",
              "0                      Continental breakfast is 7/10  \n",
              "1      Hotel is OK but the breakfast taste is so so.  \n",
              "2  The hotel has a beautiful lobby, delicately de...  \n",
              "3  Good location and good view. But check-out tim...  \n",
              "4  The rooms and facilities are old and needs tot...  "
            ]
          },
          "execution_count": 18,
          "metadata": {},
          "output_type": "execute_result"
        }
      ],
      "source": [
        "review_raw_df.head(5)"
      ]
    },
    {
      "cell_type": "markdown",
      "metadata": {
        "id": "q7RaWZ8GNu4j"
      },
      "source": [
        "## EDA with Datasets "
      ]
    },
    {
      "cell_type": "markdown",
      "metadata": {
        "id": "GyimtB2UNu4j"
      },
      "source": [
        "### Check missing / abnormal data"
      ]
    },
    {
      "cell_type": "code",
      "execution_count": null,
      "metadata": {
        "id": "64RNcdpXNu4k",
        "outputId": "0944dc61-0c23-4873-b118-922e0ff87256"
      },
      "outputs": [
        {
          "name": "stdout",
          "output_type": "stream",
          "text": [
            "Missing rows:\n",
            "For hotel_review_id: 0\n",
            "For rating_overall: 27\n"
          ]
        }
      ],
      "source": [
        "count_missing_data(score_raw_df, \n",
        "                   cols=['hotel_review_id', 'rating_overall'])"
      ]
    },
    {
      "cell_type": "code",
      "execution_count": null,
      "metadata": {
        "id": "ptXEAgoBNu4k",
        "outputId": "073121bc-0c8c-4308-bb2d-82781e227c24"
      },
      "outputs": [
        {
          "data": {
            "text/html": [
              "<div>\n",
              "<table border=\"1\" class=\"dataframe\">\n",
              "  <thead>\n",
              "    <tr style=\"text-align: right;\">\n",
              "      <th></th>\n",
              "      <th>hotel_review_id</th>\n",
              "      <th>rating_overall</th>\n",
              "    </tr>\n",
              "  </thead>\n",
              "  <tbody>\n",
              "    <tr>\n",
              "      <th>5609</th>\n",
              "      <td>0.000000e+00</td>\n",
              "      <td>NaN</td>\n",
              "    </tr>\n",
              "    <tr>\n",
              "      <th>6579</th>\n",
              "      <td>0.000000e+00</td>\n",
              "      <td>NaN</td>\n",
              "    </tr>\n",
              "    <tr>\n",
              "      <th>19275</th>\n",
              "      <td>0.000000e+00</td>\n",
              "      <td>NaN</td>\n",
              "    </tr>\n",
              "    <tr>\n",
              "      <th>24029</th>\n",
              "      <td>0.000000e+00</td>\n",
              "      <td>NaN</td>\n",
              "    </tr>\n",
              "    <tr>\n",
              "      <th>27452</th>\n",
              "      <td>0.000000e+00</td>\n",
              "      <td>NaN</td>\n",
              "    </tr>\n",
              "    <tr>\n",
              "      <th>41981</th>\n",
              "      <td>0.000000e+00</td>\n",
              "      <td>NaN</td>\n",
              "    </tr>\n",
              "    <tr>\n",
              "      <th>54271</th>\n",
              "      <td>0.000000e+00</td>\n",
              "      <td>NaN</td>\n",
              "    </tr>\n",
              "    <tr>\n",
              "      <th>69635</th>\n",
              "      <td>0.000000e+00</td>\n",
              "      <td>NaN</td>\n",
              "    </tr>\n",
              "    <tr>\n",
              "      <th>70574</th>\n",
              "      <td>0.000000e+00</td>\n",
              "      <td>NaN</td>\n",
              "    </tr>\n",
              "    <tr>\n",
              "      <th>73794</th>\n",
              "      <td>0.000000e+00</td>\n",
              "      <td>NaN</td>\n",
              "    </tr>\n",
              "    <tr>\n",
              "      <th>93093</th>\n",
              "      <td>0.000000e+00</td>\n",
              "      <td>NaN</td>\n",
              "    </tr>\n",
              "    <tr>\n",
              "      <th>122814</th>\n",
              "      <td>0.000000e+00</td>\n",
              "      <td>NaN</td>\n",
              "    </tr>\n",
              "    <tr>\n",
              "      <th>135445</th>\n",
              "      <td>0.000000e+00</td>\n",
              "      <td>NaN</td>\n",
              "    </tr>\n",
              "    <tr>\n",
              "      <th>138406</th>\n",
              "      <td>0.000000e+00</td>\n",
              "      <td>NaN</td>\n",
              "    </tr>\n",
              "    <tr>\n",
              "      <th>147806</th>\n",
              "      <td>0.000000e+00</td>\n",
              "      <td>NaN</td>\n",
              "    </tr>\n",
              "    <tr>\n",
              "      <th>148090</th>\n",
              "      <td>0.000000e+00</td>\n",
              "      <td>NaN</td>\n",
              "    </tr>\n",
              "    <tr>\n",
              "      <th>153050</th>\n",
              "      <td>0.000000e+00</td>\n",
              "      <td>NaN</td>\n",
              "    </tr>\n",
              "    <tr>\n",
              "      <th>167626</th>\n",
              "      <td>0.000000e+00</td>\n",
              "      <td>NaN</td>\n",
              "    </tr>\n",
              "    <tr>\n",
              "      <th>188830</th>\n",
              "      <td>0.000000e+00</td>\n",
              "      <td>NaN</td>\n",
              "    </tr>\n",
              "    <tr>\n",
              "      <th>197486</th>\n",
              "      <td>0.000000e+00</td>\n",
              "      <td>NaN</td>\n",
              "    </tr>\n",
              "    <tr>\n",
              "      <th>214988</th>\n",
              "      <td>3.600000e+01</td>\n",
              "      <td>NaN</td>\n",
              "    </tr>\n",
              "    <tr>\n",
              "      <th>227566</th>\n",
              "      <td>0.000000e+00</td>\n",
              "      <td>NaN</td>\n",
              "    </tr>\n",
              "    <tr>\n",
              "      <th>249048</th>\n",
              "      <td>0.000000e+00</td>\n",
              "      <td>NaN</td>\n",
              "    </tr>\n",
              "    <tr>\n",
              "      <th>252492</th>\n",
              "      <td>0.000000e+00</td>\n",
              "      <td>NaN</td>\n",
              "    </tr>\n",
              "    <tr>\n",
              "      <th>257863</th>\n",
              "      <td>9.197650e+11</td>\n",
              "      <td>NaN</td>\n",
              "    </tr>\n",
              "    <tr>\n",
              "      <th>259719</th>\n",
              "      <td>9.199010e+11</td>\n",
              "      <td>NaN</td>\n",
              "    </tr>\n",
              "    <tr>\n",
              "      <th>263103</th>\n",
              "      <td>0.000000e+00</td>\n",
              "      <td>NaN</td>\n",
              "    </tr>\n",
              "  </tbody>\n",
              "</table>\n",
              "</div>"
            ],
            "text/plain": [
              "        hotel_review_id  rating_overall\n",
              "5609       0.000000e+00             NaN\n",
              "6579       0.000000e+00             NaN\n",
              "19275      0.000000e+00             NaN\n",
              "24029      0.000000e+00             NaN\n",
              "27452      0.000000e+00             NaN\n",
              "41981      0.000000e+00             NaN\n",
              "54271      0.000000e+00             NaN\n",
              "69635      0.000000e+00             NaN\n",
              "70574      0.000000e+00             NaN\n",
              "73794      0.000000e+00             NaN\n",
              "93093      0.000000e+00             NaN\n",
              "122814     0.000000e+00             NaN\n",
              "135445     0.000000e+00             NaN\n",
              "138406     0.000000e+00             NaN\n",
              "147806     0.000000e+00             NaN\n",
              "148090     0.000000e+00             NaN\n",
              "153050     0.000000e+00             NaN\n",
              "167626     0.000000e+00             NaN\n",
              "188830     0.000000e+00             NaN\n",
              "197486     0.000000e+00             NaN\n",
              "214988     3.600000e+01             NaN\n",
              "227566     0.000000e+00             NaN\n",
              "249048     0.000000e+00             NaN\n",
              "252492     0.000000e+00             NaN\n",
              "257863     9.197650e+11             NaN\n",
              "259719     9.199010e+11             NaN\n",
              "263103     0.000000e+00             NaN"
            ]
          },
          "execution_count": 20,
          "metadata": {},
          "output_type": "execute_result"
        }
      ],
      "source": [
        "score_raw_df[score_raw_df.rating_overall.isnull()]"
      ]
    },
    {
      "cell_type": "code",
      "execution_count": null,
      "metadata": {
        "id": "XRgaT7WgNu4r",
        "outputId": "dc64a0a5-6eef-45e4-8834-2282713b3964"
      },
      "outputs": [
        {
          "name": "stdout",
          "output_type": "stream",
          "text": [
            "Missing rows:\n",
            "For hotel_review_id: 0\n",
            "For review_title: 1151\n",
            "For review_comments: 220\n"
          ]
        }
      ],
      "source": [
        "count_missing_data(review_raw_df, \n",
        "                   cols=['hotel_review_id', 'review_title', 'review_comments'])"
      ]
    },
    {
      "cell_type": "code",
      "execution_count": null,
      "metadata": {
        "id": "9K-ZUvipNu4s",
        "outputId": "677585ad-b054-4286-835e-2378248cb660"
      },
      "outputs": [
        {
          "name": "stdout",
          "output_type": "stream",
          "text": [
            "abnorm_count: 24\n"
          ]
        },
        {
          "data": {
            "text/html": [
              "<div>\n",
              "<table border=\"1\" class=\"dataframe\">\n",
              "  <thead>\n",
              "    <tr style=\"text-align: right;\">\n",
              "      <th></th>\n",
              "      <th>hotel_review_id</th>\n",
              "      <th>rating_overall</th>\n",
              "    </tr>\n",
              "  </thead>\n",
              "  <tbody>\n",
              "    <tr>\n",
              "      <th>5609</th>\n",
              "      <td>0</td>\n",
              "      <td>NaN</td>\n",
              "    </tr>\n",
              "    <tr>\n",
              "      <th>6579</th>\n",
              "      <td>0</td>\n",
              "      <td>NaN</td>\n",
              "    </tr>\n",
              "    <tr>\n",
              "      <th>19275</th>\n",
              "      <td>0</td>\n",
              "      <td>NaN</td>\n",
              "    </tr>\n",
              "    <tr>\n",
              "      <th>24029</th>\n",
              "      <td>0</td>\n",
              "      <td>NaN</td>\n",
              "    </tr>\n",
              "    <tr>\n",
              "      <th>27452</th>\n",
              "      <td>0</td>\n",
              "      <td>NaN</td>\n",
              "    </tr>\n",
              "    <tr>\n",
              "      <th>41981</th>\n",
              "      <td>0</td>\n",
              "      <td>NaN</td>\n",
              "    </tr>\n",
              "    <tr>\n",
              "      <th>54271</th>\n",
              "      <td>0</td>\n",
              "      <td>NaN</td>\n",
              "    </tr>\n",
              "    <tr>\n",
              "      <th>69635</th>\n",
              "      <td>0</td>\n",
              "      <td>NaN</td>\n",
              "    </tr>\n",
              "    <tr>\n",
              "      <th>70574</th>\n",
              "      <td>0</td>\n",
              "      <td>NaN</td>\n",
              "    </tr>\n",
              "    <tr>\n",
              "      <th>73794</th>\n",
              "      <td>0</td>\n",
              "      <td>NaN</td>\n",
              "    </tr>\n",
              "    <tr>\n",
              "      <th>93093</th>\n",
              "      <td>0</td>\n",
              "      <td>NaN</td>\n",
              "    </tr>\n",
              "    <tr>\n",
              "      <th>122814</th>\n",
              "      <td>0</td>\n",
              "      <td>NaN</td>\n",
              "    </tr>\n",
              "    <tr>\n",
              "      <th>135445</th>\n",
              "      <td>0</td>\n",
              "      <td>NaN</td>\n",
              "    </tr>\n",
              "    <tr>\n",
              "      <th>138406</th>\n",
              "      <td>0</td>\n",
              "      <td>NaN</td>\n",
              "    </tr>\n",
              "    <tr>\n",
              "      <th>147806</th>\n",
              "      <td>0</td>\n",
              "      <td>NaN</td>\n",
              "    </tr>\n",
              "    <tr>\n",
              "      <th>148090</th>\n",
              "      <td>0</td>\n",
              "      <td>NaN</td>\n",
              "    </tr>\n",
              "    <tr>\n",
              "      <th>153050</th>\n",
              "      <td>0</td>\n",
              "      <td>NaN</td>\n",
              "    </tr>\n",
              "    <tr>\n",
              "      <th>167626</th>\n",
              "      <td>0</td>\n",
              "      <td>NaN</td>\n",
              "    </tr>\n",
              "    <tr>\n",
              "      <th>188830</th>\n",
              "      <td>0</td>\n",
              "      <td>NaN</td>\n",
              "    </tr>\n",
              "    <tr>\n",
              "      <th>197486</th>\n",
              "      <td>0</td>\n",
              "      <td>NaN</td>\n",
              "    </tr>\n",
              "    <tr>\n",
              "      <th>227566</th>\n",
              "      <td>0</td>\n",
              "      <td>NaN</td>\n",
              "    </tr>\n",
              "    <tr>\n",
              "      <th>249048</th>\n",
              "      <td>0</td>\n",
              "      <td>NaN</td>\n",
              "    </tr>\n",
              "    <tr>\n",
              "      <th>252492</th>\n",
              "      <td>0</td>\n",
              "      <td>NaN</td>\n",
              "    </tr>\n",
              "    <tr>\n",
              "      <th>263103</th>\n",
              "      <td>0</td>\n",
              "      <td>NaN</td>\n",
              "    </tr>\n",
              "  </tbody>\n",
              "</table>\n",
              "</div>"
            ],
            "text/plain": [
              "        hotel_review_id  rating_overall\n",
              "5609                  0             NaN\n",
              "6579                  0             NaN\n",
              "19275                 0             NaN\n",
              "24029                 0             NaN\n",
              "27452                 0             NaN\n",
              "41981                 0             NaN\n",
              "54271                 0             NaN\n",
              "69635                 0             NaN\n",
              "70574                 0             NaN\n",
              "73794                 0             NaN\n",
              "93093                 0             NaN\n",
              "122814                0             NaN\n",
              "135445                0             NaN\n",
              "138406                0             NaN\n",
              "147806                0             NaN\n",
              "148090                0             NaN\n",
              "153050                0             NaN\n",
              "167626                0             NaN\n",
              "188830                0             NaN\n",
              "197486                0             NaN\n",
              "227566                0             NaN\n",
              "249048                0             NaN\n",
              "252492                0             NaN\n",
              "263103                0             NaN"
            ]
          },
          "execution_count": 22,
          "metadata": {},
          "output_type": "execute_result"
        }
      ],
      "source": [
        "abnorm_df = slice_abnormal_id(score_raw_df, rid='hotel_review_id')\n",
        "\n",
        "abnorm_df"
      ]
    },
    {
      "cell_type": "code",
      "execution_count": null,
      "metadata": {
        "id": "0yhQ3kuINu4s",
        "outputId": "8f766a99-b847-42b1-ea0d-701cccf81d40"
      },
      "outputs": [
        {
          "name": "stdout",
          "output_type": "stream",
          "text": [
            "abnorm_count: 24\n"
          ]
        },
        {
          "data": {
            "text/html": [
              "<div>\n",
              "<table border=\"1\" class=\"dataframe\">\n",
              "  <thead>\n",
              "    <tr style=\"text-align: right;\">\n",
              "      <th></th>\n",
              "      <th>hotel_review_id</th>\n",
              "      <th>review_title</th>\n",
              "      <th>review_comments</th>\n",
              "    </tr>\n",
              "  </thead>\n",
              "  <tbody>\n",
              "    <tr>\n",
              "      <th>5609</th>\n",
              "      <td>0</td>\n",
              "      <td>NaN</td>\n",
              "      <td>NaN</td>\n",
              "    </tr>\n",
              "    <tr>\n",
              "      <th>6579</th>\n",
              "      <td>0</td>\n",
              "      <td>NaN</td>\n",
              "      <td>NaN</td>\n",
              "    </tr>\n",
              "    <tr>\n",
              "      <th>19275</th>\n",
              "      <td>0</td>\n",
              "      <td>NaN</td>\n",
              "      <td>NaN</td>\n",
              "    </tr>\n",
              "    <tr>\n",
              "      <th>24029</th>\n",
              "      <td>0</td>\n",
              "      <td>NaN</td>\n",
              "      <td>NaN</td>\n",
              "    </tr>\n",
              "    <tr>\n",
              "      <th>27452</th>\n",
              "      <td>0</td>\n",
              "      <td>NaN</td>\n",
              "      <td>NaN</td>\n",
              "    </tr>\n",
              "    <tr>\n",
              "      <th>41981</th>\n",
              "      <td>0</td>\n",
              "      <td>NaN</td>\n",
              "      <td>NaN</td>\n",
              "    </tr>\n",
              "    <tr>\n",
              "      <th>54271</th>\n",
              "      <td>0</td>\n",
              "      <td>NaN</td>\n",
              "      <td>NaN</td>\n",
              "    </tr>\n",
              "    <tr>\n",
              "      <th>69635</th>\n",
              "      <td>0</td>\n",
              "      <td>NaN</td>\n",
              "      <td>NaN</td>\n",
              "    </tr>\n",
              "    <tr>\n",
              "      <th>70574</th>\n",
              "      <td>0</td>\n",
              "      <td>NaN</td>\n",
              "      <td>NaN</td>\n",
              "    </tr>\n",
              "    <tr>\n",
              "      <th>73794</th>\n",
              "      <td>0</td>\n",
              "      <td>NaN</td>\n",
              "      <td>NaN</td>\n",
              "    </tr>\n",
              "    <tr>\n",
              "      <th>93093</th>\n",
              "      <td>0</td>\n",
              "      <td>NaN</td>\n",
              "      <td>NaN</td>\n",
              "    </tr>\n",
              "    <tr>\n",
              "      <th>122814</th>\n",
              "      <td>0</td>\n",
              "      <td>NaN</td>\n",
              "      <td>NaN</td>\n",
              "    </tr>\n",
              "    <tr>\n",
              "      <th>135445</th>\n",
              "      <td>0</td>\n",
              "      <td>NaN</td>\n",
              "      <td>NaN</td>\n",
              "    </tr>\n",
              "    <tr>\n",
              "      <th>138406</th>\n",
              "      <td>0</td>\n",
              "      <td>NaN</td>\n",
              "      <td>NaN</td>\n",
              "    </tr>\n",
              "    <tr>\n",
              "      <th>147806</th>\n",
              "      <td>0</td>\n",
              "      <td>NaN</td>\n",
              "      <td>NaN</td>\n",
              "    </tr>\n",
              "    <tr>\n",
              "      <th>148090</th>\n",
              "      <td>0</td>\n",
              "      <td>NaN</td>\n",
              "      <td>NaN</td>\n",
              "    </tr>\n",
              "    <tr>\n",
              "      <th>153050</th>\n",
              "      <td>0</td>\n",
              "      <td>NaN</td>\n",
              "      <td>NaN</td>\n",
              "    </tr>\n",
              "    <tr>\n",
              "      <th>167626</th>\n",
              "      <td>0</td>\n",
              "      <td>NaN</td>\n",
              "      <td>NaN</td>\n",
              "    </tr>\n",
              "    <tr>\n",
              "      <th>188830</th>\n",
              "      <td>0</td>\n",
              "      <td>NaN</td>\n",
              "      <td>NaN</td>\n",
              "    </tr>\n",
              "    <tr>\n",
              "      <th>197486</th>\n",
              "      <td>0</td>\n",
              "      <td>NaN</td>\n",
              "      <td>NaN</td>\n",
              "    </tr>\n",
              "    <tr>\n",
              "      <th>227566</th>\n",
              "      <td>0</td>\n",
              "      <td>NaN</td>\n",
              "      <td>NaN</td>\n",
              "    </tr>\n",
              "    <tr>\n",
              "      <th>249048</th>\n",
              "      <td>0</td>\n",
              "      <td>NaN</td>\n",
              "      <td>NaN</td>\n",
              "    </tr>\n",
              "    <tr>\n",
              "      <th>252492</th>\n",
              "      <td>0</td>\n",
              "      <td>NaN</td>\n",
              "      <td>NaN</td>\n",
              "    </tr>\n",
              "    <tr>\n",
              "      <th>263103</th>\n",
              "      <td>0</td>\n",
              "      <td>NaN</td>\n",
              "      <td>NaN</td>\n",
              "    </tr>\n",
              "  </tbody>\n",
              "</table>\n",
              "</div>"
            ],
            "text/plain": [
              "        hotel_review_id review_title review_comments\n",
              "5609                  0          NaN             NaN\n",
              "6579                  0          NaN             NaN\n",
              "19275                 0          NaN             NaN\n",
              "24029                 0          NaN             NaN\n",
              "27452                 0          NaN             NaN\n",
              "41981                 0          NaN             NaN\n",
              "54271                 0          NaN             NaN\n",
              "69635                 0          NaN             NaN\n",
              "70574                 0          NaN             NaN\n",
              "73794                 0          NaN             NaN\n",
              "93093                 0          NaN             NaN\n",
              "122814                0          NaN             NaN\n",
              "135445                0          NaN             NaN\n",
              "138406                0          NaN             NaN\n",
              "147806                0          NaN             NaN\n",
              "148090                0          NaN             NaN\n",
              "153050                0          NaN             NaN\n",
              "167626                0          NaN             NaN\n",
              "188830                0          NaN             NaN\n",
              "197486                0          NaN             NaN\n",
              "227566                0          NaN             NaN\n",
              "249048                0          NaN             NaN\n",
              "252492                0          NaN             NaN\n",
              "263103                0          NaN             NaN"
            ]
          },
          "execution_count": 23,
          "metadata": {},
          "output_type": "execute_result"
        }
      ],
      "source": [
        "abnorm_df = slice_abnormal_id(review_raw_df, rid='hotel_review_id')\n",
        "\n",
        "abnorm_df"
      ]
    },
    {
      "cell_type": "markdown",
      "metadata": {
        "id": "GMr1Jh-2Nu4s"
      },
      "source": [
        "### Group-by aggregate score distributions\n",
        "\n",
        "From the following results we can observe that \n",
        "\n",
        "- the `rating_overall` scores are **imbalanced.** Specifically, only about $1\\%$ records have low scores $\\le 5$, thus about $99\\%$ records have scores $\\ge 6$.\n",
        "- some records have **missing score**."
      ]
    },
    {
      "cell_type": "code",
      "execution_count": null,
      "metadata": {
        "id": "qcPEjfc7Nu4s",
        "outputId": "95be4ec8-d8c8-40e5-c9a7-dbede611d29e"
      },
      "outputs": [
        {
          "data": {
            "text/plain": [
              "array([  6.,   7.,   9.,   8.,   5.,  10.,   3.,   4.,   2.,  nan])"
            ]
          },
          "execution_count": 24,
          "metadata": {},
          "output_type": "execute_result"
        }
      ],
      "source": [
        "score_raw_df.rating_overall.unique()"
      ]
    },
    {
      "cell_type": "code",
      "execution_count": null,
      "metadata": {
        "id": "AbjDH48JNu4s",
        "outputId": "c585cad2-577e-42cb-bf5f-e42045e04e37"
      },
      "outputs": [
        {
          "data": {
            "text/html": [
              "<div>\n",
              "<table border=\"1\" class=\"dataframe\">\n",
              "  <thead>\n",
              "    <tr style=\"text-align: right;\">\n",
              "      <th></th>\n",
              "      <th>rating_overall</th>\n",
              "      <th>hotel_review_id</th>\n",
              "      <th>percent</th>\n",
              "    </tr>\n",
              "  </thead>\n",
              "  <tbody>\n",
              "    <tr>\n",
              "      <th>0</th>\n",
              "      <td>2</td>\n",
              "      <td>4256</td>\n",
              "      <td>0.015514</td>\n",
              "    </tr>\n",
              "    <tr>\n",
              "      <th>1</th>\n",
              "      <td>3</td>\n",
              "      <td>4176</td>\n",
              "      <td>0.015222</td>\n",
              "    </tr>\n",
              "    <tr>\n",
              "      <th>2</th>\n",
              "      <td>4</td>\n",
              "      <td>9795</td>\n",
              "      <td>0.035704</td>\n",
              "    </tr>\n",
              "    <tr>\n",
              "      <th>3</th>\n",
              "      <td>5</td>\n",
              "      <td>9893</td>\n",
              "      <td>0.036061</td>\n",
              "    </tr>\n",
              "    <tr>\n",
              "      <th>4</th>\n",
              "      <td>6</td>\n",
              "      <td>27975</td>\n",
              "      <td>0.101972</td>\n",
              "    </tr>\n",
              "    <tr>\n",
              "      <th>5</th>\n",
              "      <td>7</td>\n",
              "      <td>28883</td>\n",
              "      <td>0.105282</td>\n",
              "    </tr>\n",
              "    <tr>\n",
              "      <th>6</th>\n",
              "      <td>8</td>\n",
              "      <td>73155</td>\n",
              "      <td>0.266659</td>\n",
              "    </tr>\n",
              "    <tr>\n",
              "      <th>7</th>\n",
              "      <td>9</td>\n",
              "      <td>49117</td>\n",
              "      <td>0.179038</td>\n",
              "    </tr>\n",
              "    <tr>\n",
              "      <th>8</th>\n",
              "      <td>10</td>\n",
              "      <td>67062</td>\n",
              "      <td>0.244449</td>\n",
              "    </tr>\n",
              "    <tr>\n",
              "      <th>0</th>\n",
              "      <td>NaN</td>\n",
              "      <td>27</td>\n",
              "      <td>0.000098</td>\n",
              "    </tr>\n",
              "  </tbody>\n",
              "</table>\n",
              "</div>"
            ],
            "text/plain": [
              "   rating_overall  hotel_review_id   percent\n",
              "0               2             4256  0.015514\n",
              "1               3             4176  0.015222\n",
              "2               4             9795  0.035704\n",
              "3               5             9893  0.036061\n",
              "4               6            27975  0.101972\n",
              "5               7            28883  0.105282\n",
              "6               8            73155  0.266659\n",
              "7               9            49117  0.179038\n",
              "8              10            67062  0.244449\n",
              "0             NaN               27  0.000098"
            ]
          },
          "execution_count": 25,
          "metadata": {},
          "output_type": "execute_result"
        }
      ],
      "source": [
        "score_agg_df = groupby_agg_data(\n",
        "    score_raw_df, gkey='rating_overall', rid='hotel_review_id')\n",
        "\n",
        "score_agg_df"
      ]
    },
    {
      "cell_type": "markdown",
      "metadata": {
        "id": "95tjGX7YNu4t"
      },
      "source": [
        "## Pre-process Datasets \n",
        "\n",
        "### Remove missing / abnormal data\n",
        "\n",
        "Since there are few records (only 27) having missing `hotel_review_id` and `rating_overall` score, we just ignore them."
      ]
    },
    {
      "cell_type": "code",
      "execution_count": null,
      "metadata": {
        "collapsed": true,
        "id": "KL0GI1UtNu4t"
      },
      "outputs": [],
      "source": [
        "score_df, review_df = remove_missing_abnormal_data(\n",
        "    score_raw_df, review_raw_df, \n",
        "    rid='hotel_review_id', \n",
        "    score_col='rating_overall')"
      ]
    },
    {
      "cell_type": "code",
      "execution_count": null,
      "metadata": {
        "id": "PP2OGYfeNu4t",
        "outputId": "31c980bc-ba47-48b3-9a29-8978d83c5751"
      },
      "outputs": [
        {
          "data": {
            "text/html": [
              "<div>\n",
              "<table border=\"1\" class=\"dataframe\">\n",
              "  <thead>\n",
              "    <tr style=\"text-align: right;\">\n",
              "      <th></th>\n",
              "      <th>hotel_review_id</th>\n",
              "      <th>rating_overall</th>\n",
              "    </tr>\n",
              "  </thead>\n",
              "  <tbody>\n",
              "    <tr>\n",
              "      <th>0</th>\n",
              "      <td>103237986</td>\n",
              "      <td>6</td>\n",
              "    </tr>\n",
              "    <tr>\n",
              "      <th>1</th>\n",
              "      <td>103237985</td>\n",
              "      <td>7</td>\n",
              "    </tr>\n",
              "    <tr>\n",
              "      <th>2</th>\n",
              "      <td>103237979</td>\n",
              "      <td>7</td>\n",
              "    </tr>\n",
              "    <tr>\n",
              "      <th>3</th>\n",
              "      <td>103237975</td>\n",
              "      <td>6</td>\n",
              "    </tr>\n",
              "    <tr>\n",
              "      <th>4</th>\n",
              "      <td>103237974</td>\n",
              "      <td>6</td>\n",
              "    </tr>\n",
              "  </tbody>\n",
              "</table>\n",
              "</div>"
            ],
            "text/plain": [
              "   hotel_review_id  rating_overall\n",
              "0        103237986               6\n",
              "1        103237985               7\n",
              "2        103237979               7\n",
              "3        103237975               6\n",
              "4        103237974               6"
            ]
          },
          "execution_count": 156,
          "metadata": {},
          "output_type": "execute_result"
        }
      ],
      "source": [
        "score_df.head(5)"
      ]
    },
    {
      "cell_type": "code",
      "execution_count": null,
      "metadata": {
        "id": "_Lqo7M1QNu4t",
        "outputId": "afca83d5-287d-45c1-fd92-3c50a58ed419"
      },
      "outputs": [
        {
          "data": {
            "text/html": [
              "<div>\n",
              "<table border=\"1\" class=\"dataframe\">\n",
              "  <thead>\n",
              "    <tr style=\"text-align: right;\">\n",
              "      <th></th>\n",
              "      <th>hotel_review_id</th>\n",
              "      <th>review_title</th>\n",
              "      <th>review_comments</th>\n",
              "    </tr>\n",
              "  </thead>\n",
              "  <tbody>\n",
              "    <tr>\n",
              "      <th>0</th>\n",
              "      <td>103237986</td>\n",
              "      <td>Friendly staff and comfortable stay</td>\n",
              "      <td>Continental breakfast is 7/10</td>\n",
              "    </tr>\n",
              "    <tr>\n",
              "      <th>1</th>\n",
              "      <td>103237985</td>\n",
              "      <td>Budget hotel</td>\n",
              "      <td>Hotel is OK but the breakfast taste is so so.</td>\n",
              "    </tr>\n",
              "    <tr>\n",
              "      <th>2</th>\n",
              "      <td>103237979</td>\n",
              "      <td>Don't set high expectations</td>\n",
              "      <td>The hotel has a beautiful lobby, delicately de...</td>\n",
              "    </tr>\n",
              "    <tr>\n",
              "      <th>3</th>\n",
              "      <td>103237975</td>\n",
              "      <td>Good location</td>\n",
              "      <td>Good location and good view. But check-out tim...</td>\n",
              "    </tr>\n",
              "    <tr>\n",
              "      <th>4</th>\n",
              "      <td>103237974</td>\n",
              "      <td>Need Renovations</td>\n",
              "      <td>The rooms and facilities are old and needs tot...</td>\n",
              "    </tr>\n",
              "  </tbody>\n",
              "</table>\n",
              "</div>"
            ],
            "text/plain": [
              "   hotel_review_id                         review_title  \\\n",
              "0        103237986  Friendly staff and comfortable stay   \n",
              "1        103237985                         Budget hotel   \n",
              "2        103237979          Don't set high expectations   \n",
              "3        103237975                        Good location   \n",
              "4        103237974                     Need Renovations   \n",
              "\n",
              "                                     review_comments  \n",
              "0                      Continental breakfast is 7/10  \n",
              "1      Hotel is OK but the breakfast taste is so so.  \n",
              "2  The hotel has a beautiful lobby, delicately de...  \n",
              "3  Good location and good view. But check-out tim...  \n",
              "4  The rooms and facilities are old and needs tot...  "
            ]
          },
          "execution_count": 157,
          "metadata": {},
          "output_type": "execute_result"
        }
      ],
      "source": [
        "review_df.head(5)"
      ]
    },
    {
      "cell_type": "markdown",
      "metadata": {
        "id": "Zh1YjJ1rNu4t"
      },
      "source": [
        "### Join score & review datasets\n",
        "\n",
        "To leverage fast vectorized operation with Pandas DataFrame, we joint score and review datasets."
      ]
    },
    {
      "cell_type": "code",
      "execution_count": null,
      "metadata": {
        "id": "dj6vGSN_Nu4t",
        "outputId": "5a61a4c9-f322-4f7d-e5c7-ea97c06e1fac"
      },
      "outputs": [
        {
          "name": "stdout",
          "output_type": "stream",
          "text": [
            "score_review_count: 274312\n"
          ]
        },
        {
          "data": {
            "text/html": [
              "<div>\n",
              "<table border=\"1\" class=\"dataframe\">\n",
              "  <thead>\n",
              "    <tr style=\"text-align: right;\">\n",
              "      <th></th>\n",
              "      <th>hotel_review_id</th>\n",
              "      <th>rating_overall</th>\n",
              "      <th>review_title</th>\n",
              "      <th>review_comments</th>\n",
              "    </tr>\n",
              "  </thead>\n",
              "  <tbody>\n",
              "    <tr>\n",
              "      <th>0</th>\n",
              "      <td>103237986</td>\n",
              "      <td>6</td>\n",
              "      <td>Friendly staff and comfortable stay</td>\n",
              "      <td>Continental breakfast is 7/10</td>\n",
              "    </tr>\n",
              "    <tr>\n",
              "      <th>1</th>\n",
              "      <td>103237985</td>\n",
              "      <td>7</td>\n",
              "      <td>Budget hotel</td>\n",
              "      <td>Hotel is OK but the breakfast taste is so so.</td>\n",
              "    </tr>\n",
              "    <tr>\n",
              "      <th>2</th>\n",
              "      <td>103237979</td>\n",
              "      <td>7</td>\n",
              "      <td>Don't set high expectations</td>\n",
              "      <td>The hotel has a beautiful lobby, delicately de...</td>\n",
              "    </tr>\n",
              "    <tr>\n",
              "      <th>3</th>\n",
              "      <td>103237975</td>\n",
              "      <td>6</td>\n",
              "      <td>Good location</td>\n",
              "      <td>Good location and good view. But check-out tim...</td>\n",
              "    </tr>\n",
              "    <tr>\n",
              "      <th>4</th>\n",
              "      <td>103237974</td>\n",
              "      <td>6</td>\n",
              "      <td>Need Renovations</td>\n",
              "      <td>The rooms and facilities are old and needs tot...</td>\n",
              "    </tr>\n",
              "  </tbody>\n",
              "</table>\n",
              "</div>"
            ],
            "text/plain": [
              "   hotel_review_id  rating_overall                         review_title  \\\n",
              "0        103237986               6  Friendly staff and comfortable stay   \n",
              "1        103237985               7                         Budget hotel   \n",
              "2        103237979               7          Don't set high expectations   \n",
              "3        103237975               6                        Good location   \n",
              "4        103237974               6                     Need Renovations   \n",
              "\n",
              "                                     review_comments  \n",
              "0                      Continental breakfast is 7/10  \n",
              "1      Hotel is OK but the breakfast taste is so so.  \n",
              "2  The hotel has a beautiful lobby, delicately de...  \n",
              "3  Good location and good view. But check-out tim...  \n",
              "4  The rooms and facilities are old and needs tot...  "
            ]
          },
          "execution_count": 158,
          "metadata": {},
          "output_type": "execute_result"
        }
      ],
      "source": [
        "score_review_df_ = join_score_review(score_df, review_df)\n",
        "\n",
        "score_review_df_.head(5)"
      ]
    },
    {
      "cell_type": "markdown",
      "metadata": {
        "id": "imOPRcDWNu4u"
      },
      "source": [
        "The following are the procedure for processing natural language texts.\n",
        "\n",
        "### Concat review_title and review_comments\n",
        "\n",
        "Using the Occam's Razor Principle, since `review_title` and `review_comments` both are natural languages, we can simply concat them into one sentence for further natural language processing."
      ]
    },
    {
      "cell_type": "code",
      "execution_count": null,
      "metadata": {
        "collapsed": true,
        "id": "t83k8ojxNu4u"
      },
      "outputs": [],
      "source": [
        "score_review_df = concat_review_title_comments(\n",
        "    score_review_df_, \n",
        "    concat_cols=['review_title', 'review_comments'],\n",
        "    concat_2col='review_title_comments')"
      ]
    },
    {
      "cell_type": "code",
      "execution_count": null,
      "metadata": {
        "id": "_tvWN7XENu4u",
        "outputId": "a0c2530e-37ac-4821-d608-fe7b496e704a"
      },
      "outputs": [
        {
          "data": {
            "text/html": [
              "<div>\n",
              "<table border=\"1\" class=\"dataframe\">\n",
              "  <thead>\n",
              "    <tr style=\"text-align: right;\">\n",
              "      <th></th>\n",
              "      <th>hotel_review_id</th>\n",
              "      <th>rating_overall</th>\n",
              "      <th>review_title</th>\n",
              "      <th>review_comments</th>\n",
              "      <th>review_title_comments</th>\n",
              "    </tr>\n",
              "  </thead>\n",
              "  <tbody>\n",
              "    <tr>\n",
              "      <th>0</th>\n",
              "      <td>103237986</td>\n",
              "      <td>6</td>\n",
              "      <td>Friendly staff and comfortable stay</td>\n",
              "      <td>Continental breakfast is 7/10</td>\n",
              "      <td>Friendly staff and comfortable stay. Continent...</td>\n",
              "    </tr>\n",
              "    <tr>\n",
              "      <th>1</th>\n",
              "      <td>103237985</td>\n",
              "      <td>7</td>\n",
              "      <td>Budget hotel</td>\n",
              "      <td>Hotel is OK but the breakfast taste is so so.</td>\n",
              "      <td>Budget hotel. Hotel is OK but the breakfast ta...</td>\n",
              "    </tr>\n",
              "    <tr>\n",
              "      <th>2</th>\n",
              "      <td>103237979</td>\n",
              "      <td>7</td>\n",
              "      <td>Don't set high expectations</td>\n",
              "      <td>The hotel has a beautiful lobby, delicately de...</td>\n",
              "      <td>Don't set high expectations. The hotel has a b...</td>\n",
              "    </tr>\n",
              "    <tr>\n",
              "      <th>3</th>\n",
              "      <td>103237975</td>\n",
              "      <td>6</td>\n",
              "      <td>Good location</td>\n",
              "      <td>Good location and good view. But check-out tim...</td>\n",
              "      <td>Good location. Good location and good view. Bu...</td>\n",
              "    </tr>\n",
              "    <tr>\n",
              "      <th>4</th>\n",
              "      <td>103237974</td>\n",
              "      <td>6</td>\n",
              "      <td>Need Renovations</td>\n",
              "      <td>The rooms and facilities are old and needs tot...</td>\n",
              "      <td>Need Renovations. The rooms and facilities are...</td>\n",
              "    </tr>\n",
              "  </tbody>\n",
              "</table>\n",
              "</div>"
            ],
            "text/plain": [
              "   hotel_review_id  rating_overall                         review_title  \\\n",
              "0        103237986               6  Friendly staff and comfortable stay   \n",
              "1        103237985               7                         Budget hotel   \n",
              "2        103237979               7          Don't set high expectations   \n",
              "3        103237975               6                        Good location   \n",
              "4        103237974               6                     Need Renovations   \n",
              "\n",
              "                                     review_comments  \\\n",
              "0                      Continental breakfast is 7/10   \n",
              "1      Hotel is OK but the breakfast taste is so so.   \n",
              "2  The hotel has a beautiful lobby, delicately de...   \n",
              "3  Good location and good view. But check-out tim...   \n",
              "4  The rooms and facilities are old and needs tot...   \n",
              "\n",
              "                               review_title_comments  \n",
              "0  Friendly staff and comfortable stay. Continent...  \n",
              "1  Budget hotel. Hotel is OK but the breakfast ta...  \n",
              "2  Don't set high expectations. The hotel has a b...  \n",
              "3  Good location. Good location and good view. Bu...  \n",
              "4  Need Renovations. The rooms and facilities are...  "
            ]
          },
          "execution_count": 160,
          "metadata": {},
          "output_type": "execute_result"
        }
      ],
      "source": [
        "score_review_df.head(5)"
      ]
    },
    {
      "cell_type": "markdown",
      "metadata": {
        "id": "oPmvICmlNu4u"
      },
      "source": [
        "### Lower review_title_comments"
      ]
    },
    {
      "cell_type": "code",
      "execution_count": null,
      "metadata": {
        "collapsed": true,
        "id": "q5Elo7lNNu4u"
      },
      "outputs": [],
      "source": [
        "score_review_df = lower_review_title_comments(\n",
        "    score_review_df, \n",
        "    lower_col='review_title_comments')"
      ]
    },
    {
      "cell_type": "code",
      "execution_count": null,
      "metadata": {
        "id": "CzgesRmONu4u",
        "outputId": "35cd2d6f-3657-4fc3-b222-bd5f1b0b9051"
      },
      "outputs": [
        {
          "data": {
            "text/html": [
              "<div>\n",
              "<table border=\"1\" class=\"dataframe\">\n",
              "  <thead>\n",
              "    <tr style=\"text-align: right;\">\n",
              "      <th></th>\n",
              "      <th>hotel_review_id</th>\n",
              "      <th>rating_overall</th>\n",
              "      <th>review_title</th>\n",
              "      <th>review_comments</th>\n",
              "      <th>review_title_comments</th>\n",
              "    </tr>\n",
              "  </thead>\n",
              "  <tbody>\n",
              "    <tr>\n",
              "      <th>0</th>\n",
              "      <td>103237986</td>\n",
              "      <td>6</td>\n",
              "      <td>Friendly staff and comfortable stay</td>\n",
              "      <td>Continental breakfast is 7/10</td>\n",
              "      <td>friendly staff and comfortable stay. continent...</td>\n",
              "    </tr>\n",
              "    <tr>\n",
              "      <th>1</th>\n",
              "      <td>103237985</td>\n",
              "      <td>7</td>\n",
              "      <td>Budget hotel</td>\n",
              "      <td>Hotel is OK but the breakfast taste is so so.</td>\n",
              "      <td>budget hotel. hotel is ok but the breakfast ta...</td>\n",
              "    </tr>\n",
              "    <tr>\n",
              "      <th>2</th>\n",
              "      <td>103237979</td>\n",
              "      <td>7</td>\n",
              "      <td>Don't set high expectations</td>\n",
              "      <td>The hotel has a beautiful lobby, delicately de...</td>\n",
              "      <td>don't set high expectations. the hotel has a b...</td>\n",
              "    </tr>\n",
              "    <tr>\n",
              "      <th>3</th>\n",
              "      <td>103237975</td>\n",
              "      <td>6</td>\n",
              "      <td>Good location</td>\n",
              "      <td>Good location and good view. But check-out tim...</td>\n",
              "      <td>good location. good location and good view. bu...</td>\n",
              "    </tr>\n",
              "    <tr>\n",
              "      <th>4</th>\n",
              "      <td>103237974</td>\n",
              "      <td>6</td>\n",
              "      <td>Need Renovations</td>\n",
              "      <td>The rooms and facilities are old and needs tot...</td>\n",
              "      <td>need renovations. the rooms and facilities are...</td>\n",
              "    </tr>\n",
              "  </tbody>\n",
              "</table>\n",
              "</div>"
            ],
            "text/plain": [
              "   hotel_review_id  rating_overall                         review_title  \\\n",
              "0        103237986               6  Friendly staff and comfortable stay   \n",
              "1        103237985               7                         Budget hotel   \n",
              "2        103237979               7          Don't set high expectations   \n",
              "3        103237975               6                        Good location   \n",
              "4        103237974               6                     Need Renovations   \n",
              "\n",
              "                                     review_comments  \\\n",
              "0                      Continental breakfast is 7/10   \n",
              "1      Hotel is OK but the breakfast taste is so so.   \n",
              "2  The hotel has a beautiful lobby, delicately de...   \n",
              "3  Good location and good view. But check-out tim...   \n",
              "4  The rooms and facilities are old and needs tot...   \n",
              "\n",
              "                               review_title_comments  \n",
              "0  friendly staff and comfortable stay. continent...  \n",
              "1  budget hotel. hotel is ok but the breakfast ta...  \n",
              "2  don't set high expectations. the hotel has a b...  \n",
              "3  good location. good location and good view. bu...  \n",
              "4  need renovations. the rooms and facilities are...  "
            ]
          },
          "execution_count": 162,
          "metadata": {},
          "output_type": "execute_result"
        }
      ],
      "source": [
        "score_review_df.head(5)"
      ]
    },
    {
      "cell_type": "markdown",
      "metadata": {
        "id": "IPzInZ85Nu4v"
      },
      "source": [
        "### Tokenize and remove stopwords\n",
        "\n",
        "**Tokenizing** is an important technique by which we would like to split the sentence into vector of invidual words. Nevertheless, there are many **stopwords** that are useless in natural language text, for example: he, is, at, which, and on. Thus we would like to remove them from the vector of tokenized words.\n",
        "\n",
        "Note that since the tokenizing and removing stopwords tasks are time-consuming, we apply Python build-in package `multiprocessing` for parallel computing to improve the performance."
      ]
    },
    {
      "cell_type": "code",
      "execution_count": null,
      "metadata": {
        "id": "Z6JfS8SeNu4v",
        "outputId": "ebad4168-bcd8-40fc-c729-60cbd8622197"
      },
      "outputs": [
        {
          "name": "stdout",
          "output_type": "stream",
          "text": [
            "Time for tokenizing: 121.193218946\n"
          ]
        }
      ],
      "source": [
        "start_token_time = time.time()\n",
        "\n",
        "score_review_token_df = preprocess_sentence_par(\n",
        "    score_review_df, \n",
        "    sen_col='review_title_comments',\n",
        "    sen_token_col='review_title_comments_token', num_proc=32)\n",
        "\n",
        "end_token_time = time.time()\n",
        "print('Time for tokenizing: {}'.format(end_token_time - start_token_time))"
      ]
    },
    {
      "cell_type": "code",
      "execution_count": null,
      "metadata": {
        "id": "E5Ou5NBXNu4v",
        "outputId": "ca2ee172-4162-4235-c755-026349397dc1"
      },
      "outputs": [
        {
          "data": {
            "text/html": [
              "<div>\n",
              "<table border=\"1\" class=\"dataframe\">\n",
              "  <thead>\n",
              "    <tr style=\"text-align: right;\">\n",
              "      <th></th>\n",
              "      <th>hotel_review_id</th>\n",
              "      <th>rating_overall</th>\n",
              "      <th>review_title</th>\n",
              "      <th>review_comments</th>\n",
              "      <th>review_title_comments</th>\n",
              "      <th>review_title_comments_token</th>\n",
              "    </tr>\n",
              "  </thead>\n",
              "  <tbody>\n",
              "    <tr>\n",
              "      <th>0</th>\n",
              "      <td>103237986</td>\n",
              "      <td>6</td>\n",
              "      <td>Friendly staff and comfortable stay</td>\n",
              "      <td>Continental breakfast is 7/10</td>\n",
              "      <td>friendly staff and comfortable stay. continent...</td>\n",
              "      <td>[friendly, staff, comfortable, stay, continent...</td>\n",
              "    </tr>\n",
              "    <tr>\n",
              "      <th>1</th>\n",
              "      <td>103237985</td>\n",
              "      <td>7</td>\n",
              "      <td>Budget hotel</td>\n",
              "      <td>Hotel is OK but the breakfast taste is so so.</td>\n",
              "      <td>budget hotel. hotel is ok but the breakfast ta...</td>\n",
              "      <td>[budget, hotel, hotel, ok, breakfast, taste]</td>\n",
              "    </tr>\n",
              "    <tr>\n",
              "      <th>2</th>\n",
              "      <td>103237979</td>\n",
              "      <td>7</td>\n",
              "      <td>Don't set high expectations</td>\n",
              "      <td>The hotel has a beautiful lobby, delicately de...</td>\n",
              "      <td>don't set high expectations. the hotel has a b...</td>\n",
              "      <td>[n't, set, high, expectations, hotel, beautifu...</td>\n",
              "    </tr>\n",
              "    <tr>\n",
              "      <th>3</th>\n",
              "      <td>103237975</td>\n",
              "      <td>6</td>\n",
              "      <td>Good location</td>\n",
              "      <td>Good location and good view. But check-out tim...</td>\n",
              "      <td>good location. good location and good view. bu...</td>\n",
              "      <td>[good, location, good, location, good, view, c...</td>\n",
              "    </tr>\n",
              "    <tr>\n",
              "      <th>4</th>\n",
              "      <td>103237974</td>\n",
              "      <td>6</td>\n",
              "      <td>Need Renovations</td>\n",
              "      <td>The rooms and facilities are old and needs tot...</td>\n",
              "      <td>need renovations. the rooms and facilities are...</td>\n",
              "      <td>[need, renovations, rooms, facilities, old, ne...</td>\n",
              "    </tr>\n",
              "  </tbody>\n",
              "</table>\n",
              "</div>"
            ],
            "text/plain": [
              "   hotel_review_id  rating_overall                         review_title  \\\n",
              "0        103237986               6  Friendly staff and comfortable stay   \n",
              "1        103237985               7                         Budget hotel   \n",
              "2        103237979               7          Don't set high expectations   \n",
              "3        103237975               6                        Good location   \n",
              "4        103237974               6                     Need Renovations   \n",
              "\n",
              "                                     review_comments  \\\n",
              "0                      Continental breakfast is 7/10   \n",
              "1      Hotel is OK but the breakfast taste is so so.   \n",
              "2  The hotel has a beautiful lobby, delicately de...   \n",
              "3  Good location and good view. But check-out tim...   \n",
              "4  The rooms and facilities are old and needs tot...   \n",
              "\n",
              "                               review_title_comments  \\\n",
              "0  friendly staff and comfortable stay. continent...   \n",
              "1  budget hotel. hotel is ok but the breakfast ta...   \n",
              "2  don't set high expectations. the hotel has a b...   \n",
              "3  good location. good location and good view. bu...   \n",
              "4  need renovations. the rooms and facilities are...   \n",
              "\n",
              "                         review_title_comments_token  \n",
              "0  [friendly, staff, comfortable, stay, continent...  \n",
              "1       [budget, hotel, hotel, ok, breakfast, taste]  \n",
              "2  [n't, set, high, expectations, hotel, beautifu...  \n",
              "3  [good, location, good, location, good, view, c...  \n",
              "4  [need, renovations, rooms, facilities, old, ne...  "
            ]
          },
          "execution_count": 164,
          "metadata": {},
          "output_type": "execute_result"
        }
      ],
      "source": [
        "score_review_token_df.head(5)"
      ]
    },
    {
      "cell_type": "code",
      "execution_count": null,
      "metadata": {
        "id": "tkBrUpJnNu4v",
        "outputId": "7c7e1d9b-3a0e-44bb-9aba-e3b6b81903f8"
      },
      "outputs": [
        {
          "data": {
            "text/plain": [
              "['budget', 'hotel', 'hotel', 'ok', 'breakfast', 'taste']"
            ]
          },
          "execution_count": 165,
          "metadata": {},
          "output_type": "execute_result"
        }
      ],
      "source": [
        "score_review_token_df.review_title_comments_token[1]"
      ]
    },
    {
      "cell_type": "markdown",
      "metadata": {
        "id": "C4alNmIyNu4v"
      },
      "source": [
        "### Get bag of words\n",
        "\n",
        "The tokenized words may contain duplicated words, and for simplicity, we would like to apply the **Bag of Words,** which just represents the sentence as a bag (multiset) of its words, ignoring grammar and even word order. Here, following the Occam's Razor Principle again, we do not keep word frequencies, thus we use binary (presence/absence or True/False) weights."
      ]
    },
    {
      "cell_type": "code",
      "execution_count": null,
      "metadata": {
        "id": "8_rDhlejNu4v",
        "outputId": "8888f562-ea6b-40da-b29c-c4b48f90c964"
      },
      "outputs": [
        {
          "name": "stdout",
          "output_type": "stream",
          "text": [
            "Time for bag of words: 8.3695089817\n"
          ]
        }
      ],
      "source": [
        "start_bow_time = time.time()\n",
        "\n",
        "score_review_bow_df = get_bag_of_words_par(\n",
        "    score_review_token_df, \n",
        "    sen_token_col='review_title_comments_token',\n",
        "    bow_col='review_title_comments_bow', num_proc=32)\n",
        "\n",
        "end_bow_time= time.time()\n",
        "print('Time for bag of words: {}'.format(end_bow_time - start_bow_time))"
      ]
    },
    {
      "cell_type": "code",
      "execution_count": null,
      "metadata": {
        "id": "hsoO3wAWNu4w",
        "outputId": "20dfa947-de01-41df-a96e-ae6db06f484c"
      },
      "outputs": [
        {
          "data": {
            "text/plain": [
              "0    {u'stay': True, u'continental': True, u'7/10':...\n",
              "1    {u'taste': True, u'breakfast': True, u'hotel':...\n",
              "2    {u'taxi': True, u'walking': True, u'cheap': Tr...\n",
              "3    {u'check-out': True, u'good': True, u'soon': T...\n",
              "4    {u'needs': True, u'old': True, u'renovations':...\n",
              "Name: review_title_comments_bow, dtype: object"
            ]
          },
          "execution_count": 167,
          "metadata": {},
          "output_type": "execute_result"
        }
      ],
      "source": [
        "score_review_bow_df.review_title_comments_bow[:5]"
      ]
    },
    {
      "cell_type": "markdown",
      "metadata": {
        "id": "2nx8hb1ENu4w"
      },
      "source": [
        "## Sentiment Analysis"
      ]
    },
    {
      "cell_type": "markdown",
      "metadata": {
        "id": "MbyO3LfQNu4w"
      },
      "source": [
        "### Label data\n",
        "\n",
        "Since we would like to **polarize data** with consideration for the **imbalanced data problem** as mentioned before, we decide to label\n",
        "\n",
        "- ratings 2, 3 and 4 by \"negative\",\n",
        "- ratings 9 and 10 by \"positive\"."
      ]
    },
    {
      "cell_type": "code",
      "execution_count": null,
      "metadata": {
        "collapsed": true,
        "id": "mMPKzoWJNu4w"
      },
      "outputs": [],
      "source": [
        "neg_review_ls = label_review(\n",
        "    score_review_bow_df,\n",
        "    scores_ls=[2, 3, 4], label='negative',\n",
        "    score_col='rating_overall',\n",
        "    review_col='review_title_comments_bow')"
      ]
    },
    {
      "cell_type": "code",
      "execution_count": null,
      "metadata": {
        "collapsed": true,
        "id": "3BrocFLDNu4w"
      },
      "outputs": [],
      "source": [
        "pos_review_ls = label_review(\n",
        "    score_review_bow_df,\n",
        "    scores_ls=[9, 10], label='positive',\n",
        "    score_col='rating_overall',\n",
        "    review_col='review_title_comments_bow')"
      ]
    },
    {
      "cell_type": "code",
      "execution_count": null,
      "metadata": {
        "id": "8OQEtW7iNu4w",
        "outputId": "3087aa0f-b3ee-4bf8-abca-64352358a2ff"
      },
      "outputs": [
        {
          "data": {
            "text/plain": [
              "({'annoying': True,\n",
              "  'booked': True,\n",
              "  'disappointing': True,\n",
              "  'discomfort': True,\n",
              "  'enjoy': True,\n",
              "  'fear': True,\n",
              "  'filled': True,\n",
              "  'lodge': True,\n",
              "  \"n't\": True,\n",
              "  'owner': True,\n",
              "  'place': True,\n",
              "  'quite': True,\n",
              "  'receptionist': True,\n",
              "  'rude': True,\n",
              "  'statements': True,\n",
              "  'stay': True,\n",
              "  'told': True,\n",
              "  'unfriendly': True},\n",
              " 'negative')"
            ]
          },
          "execution_count": 170,
          "metadata": {},
          "output_type": "execute_result"
        }
      ],
      "source": [
        "neg_review_ls[1]"
      ]
    },
    {
      "cell_type": "code",
      "execution_count": null,
      "metadata": {
        "id": "_5Q31y5lNu4x",
        "outputId": "89122e05-48c9-4acc-da10-ba7c64992311"
      },
      "outputs": [
        {
          "data": {
            "text/plain": [
              "({'hot': True, 'overall-good': True, 'sauna': True, 'tub': True, 'work': True},\n",
              " 'positive')"
            ]
          },
          "execution_count": 171,
          "metadata": {},
          "output_type": "execute_result"
        }
      ],
      "source": [
        "pos_review_ls[1]"
      ]
    },
    {
      "cell_type": "markdown",
      "metadata": {
        "id": "XSB-2cdyNu4x"
      },
      "source": [
        "### Splite training and test sets\n",
        "\n",
        "We split the training and test sets by the rule of $75\\%$ and $25\\%$."
      ]
    },
    {
      "cell_type": "code",
      "execution_count": null,
      "metadata": {
        "collapsed": true,
        "id": "sPgZRFpaNu4x"
      },
      "outputs": [],
      "source": [
        "train_set, test_set = create_train_test_sets(\n",
        "    pos_review_ls, neg_review_ls, train_percent=0.75)"
      ]
    },
    {
      "cell_type": "code",
      "execution_count": null,
      "metadata": {
        "id": "EPqkAjbmNu4x",
        "outputId": "c001e321-9e0a-4f27-c134-69bd43dea9b8"
      },
      "outputs": [
        {
          "data": {
            "text/plain": [
              "({'!': True,\n",
              "  'come': True,\n",
              "  'go': True,\n",
              "  'hotel': True,\n",
              "  'ipoh': True,\n",
              "  'love': True,\n",
              "  'nothing': True,\n",
              "  'say..perfect': True},\n",
              " 'positive')"
            ]
          },
          "execution_count": 195,
          "metadata": {},
          "output_type": "execute_result"
        }
      ],
      "source": [
        "train_set[10]"
      ]
    },
    {
      "cell_type": "markdown",
      "metadata": {
        "id": "9IZk_EH_Nu4x"
      },
      "source": [
        "### Naive Bayes Classification\n",
        "\n",
        "We first apply **Naive Bayes Classifier** to learn positive or negative sentiment. "
      ]
    },
    {
      "cell_type": "code",
      "execution_count": null,
      "metadata": {
        "collapsed": true,
        "id": "CWsAvzpjNu4x"
      },
      "outputs": [],
      "source": [
        "nb_clf = train_naive_bayes(train_set)"
      ]
    },
    {
      "cell_type": "markdown",
      "metadata": {
        "id": "2BcOVKQqNu4x"
      },
      "source": [
        "### Model evaluation\n",
        "\n",
        "We evaluate our model by **positive / negative precision and recall.** From the results we can observe that our model performs fairly good."
      ]
    },
    {
      "cell_type": "code",
      "execution_count": null,
      "metadata": {
        "id": "AF_6NKvFNu4y",
        "outputId": "c01da035-4bfb-47e4-ce50-b8fdf8c9d0e5"
      },
      "outputs": [
        {
          "name": "stdout",
          "output_type": "stream",
          "text": [
            "Positive precision: 0.976486961617\n",
            "Positive recall: 0.917986503236\n",
            "Negative precision: 0.62166454892\n",
            "Negative recall: 0.859086918349\n"
          ]
        }
      ],
      "source": [
        "eval_naive_bayes(test_set, nb_clf)"
      ]
    },
    {
      "cell_type": "markdown",
      "metadata": {
        "id": "jsP0ZdASNu4y"
      },
      "source": [
        "## Measure Real-World Performance\n",
        "\n",
        "### Predict label based on bag of words"
      ]
    },
    {
      "cell_type": "code",
      "execution_count": null,
      "metadata": {
        "id": "31Mkj4ddNu4y",
        "outputId": "85cf11e6-4cd3-44cb-eee0-c1432b225389"
      },
      "outputs": [
        {
          "name": "stdout",
          "output_type": "stream",
          "text": [
            "Time for prediction: 42.6269350052\n"
          ]
        }
      ],
      "source": [
        "start_pred_time = time.time()\n",
        "\n",
        "pred_label_df = pred_labels(\n",
        "    score_review_bow_df, nb_clf, \n",
        "    bow_col='review_title_comments_bow',\n",
        "    pred_col='pred_label')\n",
        "\n",
        "end_pred_time = time.time()\n",
        "print('Time for prediction: {}'.format(end_pred_time - start_pred_time))"
      ]
    },
    {
      "cell_type": "code",
      "execution_count": null,
      "metadata": {
        "id": "UUJOqrT4Nu4y",
        "outputId": "8d908db2-caac-4984-fc70-af24192bb554"
      },
      "outputs": [
        {
          "data": {
            "text/html": [
              "<div>\n",
              "<table border=\"1\" class=\"dataframe\">\n",
              "  <thead>\n",
              "    <tr style=\"text-align: right;\">\n",
              "      <th></th>\n",
              "      <th>rating_overall</th>\n",
              "      <th>review_title_comments_bow</th>\n",
              "      <th>pred_label</th>\n",
              "    </tr>\n",
              "  </thead>\n",
              "  <tbody>\n",
              "    <tr>\n",
              "      <th>0</th>\n",
              "      <td>6</td>\n",
              "      <td>{u'stay': True, u'continental': True, u'7/10':...</td>\n",
              "      <td>positive</td>\n",
              "    </tr>\n",
              "    <tr>\n",
              "      <th>1</th>\n",
              "      <td>7</td>\n",
              "      <td>{u'taste': True, u'breakfast': True, u'hotel':...</td>\n",
              "      <td>positive</td>\n",
              "    </tr>\n",
              "    <tr>\n",
              "      <th>2</th>\n",
              "      <td>7</td>\n",
              "      <td>{u'taxi': True, u'walking': True, u'cheap': Tr...</td>\n",
              "      <td>positive</td>\n",
              "    </tr>\n",
              "    <tr>\n",
              "      <th>3</th>\n",
              "      <td>6</td>\n",
              "      <td>{u'check-out': True, u'good': True, u'soon': T...</td>\n",
              "      <td>positive</td>\n",
              "    </tr>\n",
              "    <tr>\n",
              "      <th>4</th>\n",
              "      <td>6</td>\n",
              "      <td>{u'needs': True, u'old': True, u'renovations':...</td>\n",
              "      <td>negative</td>\n",
              "    </tr>\n",
              "  </tbody>\n",
              "</table>\n",
              "</div>"
            ],
            "text/plain": [
              "   rating_overall                          review_title_comments_bow  \\\n",
              "0               6  {u'stay': True, u'continental': True, u'7/10':...   \n",
              "1               7  {u'taste': True, u'breakfast': True, u'hotel':...   \n",
              "2               7  {u'taxi': True, u'walking': True, u'cheap': Tr...   \n",
              "3               6  {u'check-out': True, u'good': True, u'soon': T...   \n",
              "4               6  {u'needs': True, u'old': True, u'renovations':...   \n",
              "\n",
              "  pred_label  \n",
              "0   positive  \n",
              "1   positive  \n",
              "2   positive  \n",
              "3   positive  \n",
              "4   negative  "
            ]
          },
          "execution_count": 249,
          "metadata": {},
          "output_type": "execute_result"
        }
      ],
      "source": [
        "pred_label_df.head(5)"
      ]
    },
    {
      "cell_type": "markdown",
      "metadata": {
        "id": "LEeXtAWmNu4y"
      },
      "source": [
        "### Compare two labels's score distributions\n",
        "\n",
        "From the following boxplot, we can observe that our model performs reasonably well in the real world, even by our suprisingly simple machine learning modeling. \n",
        "\n",
        "We can further apply divergence measures, such as Kullback-Leibler divergence, to quantify the rating_overall distribution distance between two label groups, if needed. "
      ]
    },
    {
      "cell_type": "code",
      "execution_count": null,
      "metadata": {
        "collapsed": true,
        "id": "0-ZHtvntNu4y"
      },
      "outputs": [],
      "source": [
        "box_data = get_boxplot_data(\n",
        "    pred_label_df, \n",
        "    pred_col='pred_label', score_col='rating_overall')"
      ]
    },
    {
      "cell_type": "code",
      "execution_count": null,
      "metadata": {
        "id": "7lk4kbFkNu4z",
        "outputId": "6847e109-70c3-42ac-ccb5-948131f3c942"
      },
      "outputs": [
        {
          "data": {
            "text/plain": [
              "<matplotlib.figure.Figure at 0x7fcb672a0b50>"
            ]
          },
          "metadata": {},
          "output_type": "display_data"
        },
        {
          "data": {
            "image/png": "[encoded data removed]",
            "text/plain": [
              "<matplotlib.figure.Figure at 0x7fcb96a91650>"
            ]
          },
          "metadata": {},
          "output_type": "display_data"
        }
      ],
      "source": [
        "plot_box(box_data, title='Box Plot for rating_overall by Sentiment Classes', \n",
        "         xlab='class', ylab='rating_overall', \n",
        "         xticks=['positive', 'negative'], figsize=(12, 7))"
      ]
    },
    {
      "cell_type": "markdown",
      "metadata": {
        "id": "D_ueaZx1Nu4z"
      },
      "source": [
        "## Discussions\n",
        "\n",
        "- Following Occam's Razor Principle, we first apply the \"standard\" approach for Sentiment Analysis with Natural Language Processing.\n",
        "- Our simple Naive Bayes Classifier performs fairly well in model evaluation and real-world performance, by investigating precision and recall for positive and negative sentiment and by viewing boxplot, respectively.\n",
        "- Note that our model predicts really good at positive reviews which generally produce high `rating_overall`. Nevertheless, the model performs comparably bad at negative reviews since some would produce above average rating_overall. The reason for this is because the `rating_overall` distribution is *imbalanced* and leads to much less negative reviews.\n",
        "- Thus, to improve the model performance, we can resolve the imbalanced data problem by applying Sampling Techniques, for example positive sampling by which we keep all negative records and sample positive ones for better classification. (We will say sampling techniques for the imbalanced data problem later.)\n",
        "- We can further enhance the performance by applying more advanced machine learning models with L1/L2-regularizations, or by using better Feature Engineering techniques, such as Bigrams or by learning word embeddings with Word2Vec.\n",
        "- Furthermore, we can apply Divergence Measures, such as Kullback-Leibler divergence, to quantify the rating_overall distribution distance between two label groups. By calculating divergence measures we can quantify our enhancements."
      ]
    }
  ],
  "metadata": {
    "kernelspec": {
      "display_name": "Python 3",
      "name": "python3"
    },
    "language_info": {
      "name": "python"
    },
    "colab": {
      "provenance": []
    },
    "gpuClass": "standard"
  },
  "nbformat": 4,
  "nbformat_minor": 0
}